{
 "cells": [
  {
   "cell_type": "markdown",
   "id": "0c9b2ea5-3eda-47ee-a011-50d03aeb8d2b",
   "metadata": {},
   "source": [
    "## NIC BMS ELIGBILITY ENGINE\n",
    "\n"
   ]
  },
  {
   "cell_type": "code",
   "execution_count": 6,
   "id": "9c3d5adf-55f1-4d00-872b-598e2c7c2522",
   "metadata": {},
   "outputs": [],
   "source": [
    "import pandas as pd\n",
    "import numpy as np\n",
    "from sklearn.feature_extraction.text import TfidfVectorizer\n",
    "from sklearn.metrics.pairwise import cosine_similarity\n",
    "import matplotlib.pyplot as plt\n",
    "import seaborn as sns"
   ]
  },
  {
   "cell_type": "code",
   "execution_count": 7,
   "id": "e9e16b9b-c9b0-4d46-8478-50fdc5c8dcf8",
   "metadata": {},
   "outputs": [],
   "source": [
    "rec = pd.read_csv('recommendation_dataset.csv')"
   ]
  },
  {
   "cell_type": "code",
   "execution_count": 8,
   "id": "aecae96f-f18c-4d98-ad43-ea1bfdce2ffe",
   "metadata": {},
   "outputs": [
    {
     "name": "stdout",
     "output_type": "stream",
     "text": [
      "   user_id gender social_category         dob  age  scheme_id  \\\n",
      "0    72739      F              ST  2007-12-10   16        155   \n",
      "1    48454      F              ST  2009-11-05   14        155   \n",
      "2    45558      M              ST  2010-01-05   14        155   \n",
      "3    29620      F              SC  2001-01-20   23        181   \n",
      "4    90146      F              SC  2009-12-21   14        297   \n",
      "\n",
      "                                         scheme_name domicile_of_tripura  \\\n",
      "0         Pre-Matric Scholarship for ST (VI to VIII)                   Y   \n",
      "1         Pre-Matric Scholarship for ST (VI to VIII)                   Y   \n",
      "2         Pre-Matric Scholarship for ST (VI to VIII)                   Y   \n",
      "3                   Mukhyamantri Yuba Yogajog Yojana                   Y   \n",
      "4  Pre-Matric Scholarship Class VI to VIII for SC...                   Y   \n",
      "\n",
      "                                         description  \n",
      "0  Pre-Matric Scholarship to ST Students for Clas...  \n",
      "1  Pre-Matric Scholarship to ST Students for Clas...  \n",
      "2  Pre-Matric Scholarship to ST Students for Clas...  \n",
      "3  Financial grant to degree year students for sm...  \n",
      "4  Pre-Matric Scholarship Class VI to VIII for SC...  \n"
     ]
    }
   ],
   "source": [
    "print(rec.head())"
   ]
  },
  {
   "cell_type": "code",
   "execution_count": 9,
   "id": "a65415c3-43da-4532-a10e-c20524bd8330",
   "metadata": {},
   "outputs": [
    {
     "name": "stdout",
     "output_type": "stream",
     "text": [
      "<class 'pandas.core.frame.DataFrame'>\n",
      "RangeIndex: 114471 entries, 0 to 114470\n",
      "Data columns (total 9 columns):\n",
      " #   Column               Non-Null Count   Dtype \n",
      "---  ------               --------------   ----- \n",
      " 0   user_id              114471 non-null  int64 \n",
      " 1   gender               114471 non-null  object\n",
      " 2   social_category      114471 non-null  object\n",
      " 3   dob                  114471 non-null  object\n",
      " 4   age                  114471 non-null  int64 \n",
      " 5   scheme_id            114471 non-null  int64 \n",
      " 6   scheme_name          114471 non-null  object\n",
      " 7   domicile_of_tripura  114471 non-null  object\n",
      " 8   description          114471 non-null  object\n",
      "dtypes: int64(3), object(6)\n",
      "memory usage: 7.9+ MB\n",
      "None\n"
     ]
    }
   ],
   "source": [
    "print(rec.info())\n"
   ]
  },
  {
   "cell_type": "code",
   "execution_count": 10,
   "id": "0f5739c5-3537-4239-9592-b892f8ead858",
   "metadata": {},
   "outputs": [],
   "source": [
    "# Drop rows with missing values (NaN values)\n",
    "rec = rec.dropna()\n"
   ]
  },
  {
   "cell_type": "code",
   "execution_count": 11,
   "id": "358366c5-0007-46cc-a8ef-7234893ecaa5",
   "metadata": {},
   "outputs": [],
   "source": [
    "# Check for any remaining missing values after dropping\n",
    "missing_values = rec.isnull().sum()"
   ]
  },
  {
   "cell_type": "code",
   "execution_count": 12,
   "id": "c9ab8646-5215-404a-bf32-963272e3c2c8",
   "metadata": {},
   "outputs": [
    {
     "name": "stdout",
     "output_type": "stream",
     "text": [
      "No missing values found after dropping.\n"
     ]
    }
   ],
   "source": [
    "if missing_values.any():\n",
    "    print(\"There are still missing values after dropping.\")\n",
    "    print(missing_values)\n",
    "else:\n",
    "    print (\"No missing values found after dropping.\")"
   ]
  },
  {
   "cell_type": "code",
   "execution_count": 26,
   "id": "4ad78874-9e8b-4818-b604-04544d1630a5",
   "metadata": {},
   "outputs": [
    {
     "name": "stdout",
     "output_type": "stream",
     "text": [
      "Total occurrences of each term in column scheme_name are:\n",
      "scheme_name\n",
      "Mukhyamantri Yuba Yogajog Yojana                                                                                                                       34728\n",
      "Pre-Matric Scholarship for ST (VI to VIII)                                                                                                             24658\n",
      "Pre-Matric Scholarship Class VI to VIII for SC Students                                                                                                13824\n",
      "Dr. B. R. Ambedkar Merit Award                                                                                                                         11705\n",
      "Merit Award for ST                                                                                                                                     11533\n",
      "Ambedkar Merit Award                                                                                                                                    4316\n",
      "DR. B. R. Ambedkar Merit Award for OBC                                                                                                                  3213\n",
      "One-time financial support for economically weaker meritorious OBC student                                                                              2257\n",
      "Pre Matic Scholarship for Minorities                                                                                                                    1379\n",
      "One-time financial support for economically weaker meritorious SC students                                                                               834\n",
      "Stipend                                                                                                                                                  719\n",
      "Stipend for ITI Training                                                                                                                                 661\n",
      "Apprenticeship training for pass out Engineering, Degree OR Diploma, candidates of Civil OR Mechanical OR Electrical Engineering under PWD, R and B      630\n",
      "Pre-Matric Scholarship for ST  VI to VIII                                                                                                                505\n",
      "One-Time Financial Support for Economically Weaker Meritorious ST students                                                                               493\n",
      "SCERT Merit Stipend and Sanskrit Scholarship                                                                                                             340\n",
      "State run scholarship and stipend to nursing student                                                                                                     276\n",
      "Dr. B.R. Ambedkar Gold Medal Award                                                                                                                       276\n",
      "ARDD - Scholarship and Stipend                                                                                                                           275\n",
      "Special incentive to minorities students                                                                                                                 275\n",
      "Tripura Post Madhyamik Stipend for professional courses out side the state of Tripura Rules                                                              199\n",
      "Post Matric Scholarship for Minorities                                                                                                                   186\n",
      "Stipend for Apprenticeship Training for pass-out Degree OR Diploma Candidates of Civil OR Mechanical OR Electrical Engineering                           170\n",
      "State run scholarship to Medical students                                                                                                                166\n",
      "Tripura Govt Merit cum Means Scholarship Scheme 1977                                                                                                     125\n",
      "Institution of Scholarships and Stipends for education of Girls at degree stage                                                                          118\n",
      "Tripura Post Madhyamik Stipend for professional courses outside the state of Tripura Rules 1986                                                          116\n",
      "Dr. B.R. Ambedkar Gold Medal Award for OBC                                                                                                                77\n",
      "Scheme of Post Matric Scholarship to Lower Income Group student for Studies in india                                                                      74\n",
      "Scheme of Post Matric Scholarship to Lower Income Group student for Studies in India                                                                      48\n",
      "State Run Stipend and Scholarship  Agriculture                                                                                                            47\n",
      "State Run Stipend and Scholarship_Agriculture                                                                                                             45\n",
      "Scholarship and Stipend                                                                                                                                   38\n",
      "Nucleus Budget                                                                                                                                            36\n",
      "Merit Stipend and Sanskrit Scholarship - SCERT                                                                                                            30\n",
      "Post Matic Scholarship for Minorities                                                                                                                     29\n",
      "Chief Ministers Special Scholarship to Divyangan[Blind] Students                                                                                          20\n",
      "Sports Talent Scholarship                                                                                                                                 16\n",
      "Nucleus Budget minority                                                                                                                                   10\n",
      "Tripura post Graduate Research Fellowship Rules 1987                                                                                                       7\n",
      "Merit Award to the meritorious ST students                                                                                                                 5\n",
      "One-Time Financial Support for Economically Weaker Meritorious Minority Students                                                                           5\n",
      "Lakhshay - Chief Minister Special Scholarship Scheme for UPSC - CSE Aspirants                                                                              3\n",
      "State run stipend and scholarship cost of ration                                                                                                           2\n",
      "Lakhshay-Chief Minister's Special Scholarship                                                                                                              2\n",
      "Name: count, dtype: int64\n"
     ]
    }
   ],
   "source": [
    "column_name = 'scheme_name'  \n",
    "\n",
    "# Get the value counts for the specified column\n",
    "term_counts = rec[column_name].value_counts()\n",
    " \n",
    "# Display the total occurrences of each term\n",
    "print(\"Total occurrences of each term in column\", column_name, \"are:\")\n",
    "print(term_counts)"
   ]
  },
  {
   "cell_type": "code",
   "execution_count": 13,
   "id": "d49a6976-26ec-431f-8cca-caeb05bb846d",
   "metadata": {},
   "outputs": [],
   "source": [
    "# Map age ranges to numerical codes\n",
    "#This part converts age ranges specified as strings into numerical codes. For example, 'Below 10' is mapped to 0, '10-15' to 1, and so on.\n",
    "age_mapping = {\n",
    "    'Below 10': 0, '10-15': 1, '16-20': 2, '21-25': 3, '26-30': 4, \n",
    "    '31-35': 5, '36-40': 6, '41-45': 7, '46-50': 8, 'Above 50': 9\n",
    "}\n",
    "rec['age'] = rec['age'].map(age_mapping)\n",
    "\n",
    "# Convert categorical variables to numerical codes, including SC, ST, and OBC for caste\n",
    "caste_mapping = {'SC': 0, 'ST': 1, 'OBC': 2}\n",
    "rec['social_category'] = rec['social_category'].map(caste_mapping)\n",
    "\n",
    "# Convert categorical variables to numerical codes, including M, F, and T for gender\n",
    "gender_mapping = {'M': 0, 'F': 1, 'T': 2}\n",
    "rec['gender'] = rec['gender'].map(gender_mapping)\n",
    "\n",
    "# Convert domicile to numerical (binary) variable\n",
    "rec['domicile_of_tripura'] = rec['domicile_of_tripura'].map({'Y': 1, 'N': 0})\n",
    "\n",
    "rec['scheme_text'] = rec['scheme_name'] + ' ' + rec['description']"
   ]
  },
  {
   "cell_type": "code",
   "execution_count": 14,
   "id": "a66a7c33-6b34-42eb-bdbd-bf4dde085cda",
   "metadata": {},
   "outputs": [],
   "source": [
    "\n",
    "# TDF-IDF VECTORIZATION for combined scheme text \n",
    "\n",
    "vectorizer=TfidfVectorizer()\n",
    "tfidf_matrix=vectorizer.fit_transform(rec['scheme_text'])\n",
    "\n",
    "#tfidf_matrix: This is a matrix where each row is a TF-IDF vector representing the text of a scheme (combining scheme name and description).\n"
   ]
  },
  {
   "cell_type": "code",
   "execution_count": 16,
   "id": "403d5923-d8c5-4a18-8c71-0032c22f0035",
   "metadata": {},
   "outputs": [],
   "source": [
    "# Function for content-based filtering\n",
    "def content_based_filtering (search_terms,age,social_category,gender,domicile,num_recommendations=5):\n",
    "    \n",
    "    # Purpose: to create a combined  single string that includes both the user's search terms and their demographic or categorical information(additional parameters)\n",
    "    #This combined string is then used as input to the TF-IDF vectorizer to find schemes that are most similar to this combined query\n",
    "    #thus making the search personalized and more relevant to the user's profile.\n",
    "\n",
    "    params = ' '.join(filter(None, [age, social_category, gender, domicile_of_tripura]))\n",
    "\n",
    "# filter:  creates an iterable that filters out any None values from the list \n",
    "#' '.join(...):  joins the remaining non-None elements in the list with a space (' ') as the separator, resulting in a single string\n",
    "\n",
    "    search_terms_str = ' '.join(search_terms) + ' ' + params\n",
    "# ' '.join(search_terms):   joins the elements of the search_terms list with a space (' ') as the separator, resulting in a single string. \n",
    "#  + ' ' + params:  concatenates the search_terms string with a space and the params string created in the previous line.\n",
    "\n",
    "\n",
    "    # Transform search terms using TF-IDF vectorizer\n",
    "    tfidf_search_terms = vectorizer.transform([search_terms_str])\n",
    "    #This line takes the combined search terms string (search_terms_str) \n",
    "        #and converts it into a sparse TF-IDF vector using the vocabulary and IDF values\n",
    "    #tfidf_search_terms, is a sparse matrix representing the TF-IDF vector for the input string. \n",
    "    #Each element in this vector corresponds to a term in the vectorizer’s vocabulary, and the value is the TF-IDF score for that term in the input document.\n",
    "    \n",
    " # Calculate cosine similarities between search terms and scheme text TF-IDF vectors\n",
    "    cosine_similarities = cosine_similarity(tfidf_search_terms, tfidf_matrix).flatten()\n",
    "\n",
    "\n",
    "    \n",
    "    # store it in binary form and write a function to read it \n",
    "\n",
    "\n",
    "\n",
    "    \n",
    "    #.flatten(): This method converts the result from a 2D array to a 1D array (flattening the matrix). \n",
    "    \n",
    "    # Get indices of top similar schemes\n",
    "    top_similar_indices = cosine_similarities.argsort()[-num_recommendations:][::-1]\n",
    "    #argsort(): This method returns the indices that would sort an array in ascending order\n",
    "    #[-num_recommendations:]: This  selects the last num_recommendations elements from the sorted indices array.\n",
    "# Print the suggested schemes\n",
    "    print(\"Content-based Filtering:\")\n",
    "    print(\"The suggested schemes based on search terms and additional parameters are: \\n\")\n",
    "    for i, index in enumerate(top_similar_indices):\n",
    "        print(rec.iloc[index]['scheme_name'])\n",
    "    "
   ]
  },
  {
   "cell_type": "code",
   "execution_count": 18,
   "id": "101c814a-ae8c-4deb-84f1-30e40714cc49",
   "metadata": {},
   "outputs": [
    {
     "name": "stdout",
     "output_type": "stream",
     "text": [
      "Content-based Filtering:\n",
      "The suggested schemes based on search terms and additional parameters are: \n",
      "\n",
      "DR. B. R. Ambedkar Merit Award for OBC\n",
      "DR. B. R. Ambedkar Merit Award for OBC\n",
      "DR. B. R. Ambedkar Merit Award for OBC\n",
      "DR. B. R. Ambedkar Merit Award for OBC\n",
      "DR. B. R. Ambedkar Merit Award for OBC\n"
     ]
    }
   ],
   "source": [
    "# Function to recommend schemes using both content-based and collaborative filtering\n",
    "def recommend_schemes(search_terms, age, social_category, gender, domicile_of_tripura):\n",
    "    # Content-based filtering\n",
    "    content_based_filtering(search_terms, age, social_category, gender, domicile_of_tripura)\n",
    "\n",
    "# Example usage:\n",
    "search_terms = ['Pre-Matric']\n",
    "age = '21-25'\n",
    "social_category = 'OBC'\n",
    "gender = 'M'\n",
    "domicile_of_tripura = 'Y'\n",
    "recommend_schemes(search_terms, age, social_category, gender, domicile_of_tripura)\n"
   ]
  },
  {
   "cell_type": "code",
   "execution_count": null,
   "id": "c9edae0f-398e-4e8c-8131-4b463829ce57",
   "metadata": {},
   "outputs": [],
   "source": []
  },
  {
   "cell_type": "code",
   "execution_count": null,
   "id": "6e521bc1-6d86-42e5-bd20-0095b800c71a",
   "metadata": {},
   "outputs": [],
   "source": []
  }
 ],
 "metadata": {
  "kernelspec": {
   "display_name": "Python 3 (ipykernel)",
   "language": "python",
   "name": "python3"
  },
  "language_info": {
   "codemirror_mode": {
    "name": "ipython",
    "version": 3
   },
   "file_extension": ".py",
   "mimetype": "text/x-python",
   "name": "python",
   "nbconvert_exporter": "python",
   "pygments_lexer": "ipython3",
   "version": "3.11.7"
  }
 },
 "nbformat": 4,
 "nbformat_minor": 5
}
